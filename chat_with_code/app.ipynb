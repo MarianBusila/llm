{
 "cells": [
  {
   "cell_type": "code",
   "execution_count": null,
   "metadata": {},
   "outputs": [],
   "source": [
    "import subprocess\n",
    "import re\n",
    "import glob\n",
    "import os\n",
    "\n",
    "from llama_index.core import Settings\n",
    "from llama_index.llms.ollama import Ollama\n",
    "from llama_index.core import PromptTemplate\n",
    "from llama_index.core.node_parser import CodeSplitter, MarkdownNodeParser\n",
    "from llama_index.core import SimpleDirectoryReader, StorageContext\n",
    "from llama_index.vector_stores.qdrant import QdrantVectorStore\n",
    "from llama_index.core.indices.vector_store.base import VectorStoreIndex\n",
    "from llama_index.embeddings.fastembed import FastEmbedEmbedding\n",
    "import qdrant_client\n",
    "\n",
    "from IPython.display import Markdown, display\n"
   ]
  },
  {
   "cell_type": "code",
   "execution_count": null,
   "metadata": {},
   "outputs": [],
   "source": [
    "# Create a local Qdrant vector store\n",
    "client = qdrant_client.QdrantClient(path=\"qdrant_cc_db\")\n",
    "\n",
    "# setting up the llm\n",
    "llm=Ollama(model=\"llama3:8b-instruct-q4_1\", request_timeout=120.0)\n",
    "Settings.llm = llm\n",
    "# setting up the embedding model\n",
    "Settings.embed_model = FastEmbedEmbedding(model_name=\"BAAI/bge-base-en-v1.5\")"
   ]
  },
  {
   "cell_type": "code",
   "execution_count": null,
   "metadata": {},
   "outputs": [],
   "source": [
    "# utility functions\n",
    "repos_folder = \"repos\"\n",
    "# create folder if does not exists\n",
    "if not os.path.exists(repos_folder):\n",
    "    os.makedirs(repos_folder)\n",
    "\n",
    "def parse_github_url(url):\n",
    "    pattern = r\"https://github\\.com/([^/]+)/([^/]+)\"\n",
    "    match = re.match(pattern, url)\n",
    "    return match.groups() if match else (None, None)\n",
    "\n",
    "def clone_github_repo(repo_url, repo):    \n",
    "    try:\n",
    "        print('Cloning the repo ...')\n",
    "        result = subprocess.run([\"git\", \"clone\", repo_url, f\"{repos_folder}/{repo}\"], check=True, text=True, capture_output=True)\n",
    "    except subprocess.CalledProcessError as e:\n",
    "        print(f\"Failed to clone repository: {e}\")\n",
    "        return None\n",
    "    \n",
    "def validate_owner_repo(owner, repo):\n",
    "    return bool(owner) and bool(repo)\n",
    "\n",
    "def parse_docs_by_file_types(ext, language, input_dir_path):\n",
    "    try:\n",
    "        files = glob.glob(f\"{input_dir_path}/**/*{ext}\", recursive=True)\n",
    "        if len(files) > 0:\n",
    "            loader = SimpleDirectoryReader(input_dir=input_dir_path, required_exts=[ext], recursive=True)\n",
    "            docs = loader.load_data()\n",
    "            \n",
    "            parser = ( MarkdownNodeParser() if ext == \".md\" else CodeSplitter.from_defaults(language=language) )\n",
    "            return parser.get_nodes_from_documents(docs)\n",
    "        else:\n",
    "            print(f\"No files found with extension {ext}\")\n",
    "            return []\n",
    "    except Exception as e:\n",
    "        print(f'Exception {e} occurred while parsing docs into nodes of file type {ext}')\n",
    "        return []"
   ]
  },
  {
   "cell_type": "code",
   "execution_count": null,
   "metadata": {},
   "outputs": [],
   "source": [
    "def create_index(nodes):\n",
    "    vector_store = QdrantVectorStore(client=client, collection_name=\"code_collection\")\n",
    "    storage_context = StorageContext.from_defaults(vector_store=vector_store)\n",
    "    index = VectorStoreIndex(nodes, storage_context = storage_context)\n",
    "    return index"
   ]
  },
  {
   "cell_type": "code",
   "execution_count": null,
   "metadata": {},
   "outputs": [],
   "source": [
    "# setup a query engine\n",
    "\n",
    "def setup_query_engine(github_url):\n",
    "    owner, repo = parse_github_url(github_url)   \n",
    "    \n",
    "    if validate_owner_repo(owner, repo):\n",
    "        input_dir_path = f\"{repos_folder}/{repo}\"\n",
    "        if os.path.exists(input_dir_path):\n",
    "           pass\n",
    "        else:\n",
    "            clone_github_repo(github_url, repo)\n",
    "        \n",
    "        try:\n",
    "            file_types = {\n",
    "                \".md\": \"markdown\",\n",
    "                \".cs\": \"c_sharp\"\n",
    "            }\n",
    "            \n",
    "            nodes = []\n",
    "            for ext, language in file_types.items():\n",
    "                nodes += parse_docs_by_file_types(ext, language, input_dir_path)\n",
    "                \n",
    "            index = create_index(nodes)\n",
    "            \n",
    "            query_engine = index.as_query_engine(similarity_top_k=4)\n",
    "            \n",
    "            qa_prompt_tmpl_str = (\n",
    "            \"Context information is below.\\n\"\n",
    "            \"---------------------\\n\"\n",
    "            \"{context_str}\\n\"\n",
    "            \"---------------------\\n\"\n",
    "            \"Given the context information above I want you to think step by step to answer the query in a crisp manner, in case you don't know the answer say 'I don't know!'.\\n\"\n",
    "            \"Query: {query_str}\\n\"\n",
    "            \"Answer: \"\n",
    "            )\n",
    "\n",
    "            qa_prompt_tmpl = PromptTemplate(qa_prompt_tmpl_str)\n",
    "            \n",
    "            query_engine.update_prompts(\n",
    "                {\"response_synthesizer:text_qa_template\": qa_prompt_tmpl}\n",
    "            )\n",
    "\n",
    "            if nodes:\n",
    "                print(\"Data loaded successfully!!\")\n",
    "                print(\"Ready to chat!!\")\n",
    "            else:\n",
    "                print(\"No data found, check if the repository is not empty!\")\n",
    "            \n",
    "            return query_engine\n",
    "            \n",
    "        except Exception as e:\n",
    "            print(f\"An error occurred: {e}\")    \n",
    "    else:\n",
    "        print('Invalid github repo, try again!')\n",
    "        return None"
   ]
  },
  {
   "cell_type": "code",
   "execution_count": null,
   "metadata": {},
   "outputs": [],
   "source": [
    "github_url = \"https://github.com/MarianBusila/CleanArchitecture\"\n",
    "\n",
    "query_engine = setup_query_engine(github_url=github_url)"
   ]
  },
  {
   "cell_type": "code",
   "execution_count": null,
   "metadata": {},
   "outputs": [],
   "source": [
    "response = query_engine.query('Give a description of what this repository is about.')\n",
    "display(Markdown(str(response)))"
   ]
  },
  {
   "cell_type": "code",
   "execution_count": null,
   "metadata": {},
   "outputs": [],
   "source": [
    "response = query_engine.query('If I want to update a playlist, which properties I can modify?')\n",
    "display(Markdown(str(response)))"
   ]
  },
  {
   "cell_type": "code",
   "execution_count": null,
   "metadata": {},
   "outputs": [],
   "source": [
    "response = query_engine.query('Does the code contain an api to get all the tracks for a given artist?')\n",
    "display(Markdown(str(response)))"
   ]
  }
 ],
 "metadata": {
  "kernelspec": {
   "display_name": "venv",
   "language": "python",
   "name": "python3"
  },
  "language_info": {
   "codemirror_mode": {
    "name": "ipython",
    "version": 3
   },
   "file_extension": ".py",
   "mimetype": "text/x-python",
   "name": "python",
   "nbconvert_exporter": "python",
   "pygments_lexer": "ipython3",
   "version": "3.12.6"
  }
 },
 "nbformat": 4,
 "nbformat_minor": 2
}
